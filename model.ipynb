{
 "cells": [
  {
   "cell_type": "code",
   "execution_count": 76,
   "metadata": {},
   "outputs": [
    {
     "name": "stdout",
     "output_type": "stream",
     "text": [
      "The autoreload extension is already loaded. To reload it, use:\n",
      "  %reload_ext autoreload\n"
     ]
    },
    {
     "data": {
      "application/vnd.jupyter.widget-view+json": {
       "model_id": "2c3d135d331d40d19e3e7a3cb3da721b",
       "version_major": 2,
       "version_minor": 0
      },
      "text/plain": [
       "HBox(children=(IntProgress(value=1, bar_style='info', max=1), HTML(value='')))"
      ]
     },
     "metadata": {},
     "output_type": "display_data"
    },
    {
     "name": "stdout",
     "output_type": "stream",
     "text": [
      "\n"
     ]
    }
   ],
   "source": [
    "%matplotlib inline\n",
    "%load_ext autoreload\n",
    "%autoreload 2\n",
    "\n",
    "import sys\n",
    "import pandas as pd\n",
    "import numpy as np\n",
    "\n",
    "import os\n",
    "import gc\n",
    "from datetime import timedelta\n",
    "from tqdm import tqdm_notebook as tqdm\n",
    "tqdm().pandas()\n",
    "\n",
    "import lightgbm as lgb\n",
    "from scipy.stats import hmean"
   ]
  },
  {
   "cell_type": "code",
   "execution_count": 77,
   "metadata": {},
   "outputs": [],
   "source": [
    "target = 'redemption_status'\n",
    "id_cols = ['id', 'campaign_id']"
   ]
  },
  {
   "cell_type": "code",
   "execution_count": 78,
   "metadata": {},
   "outputs": [
    {
     "data": {
      "text/plain": [
       "((78369, 5), (50226, 4), (50226, 2))"
      ]
     },
     "execution_count": 78,
     "metadata": {},
     "output_type": "execute_result"
    }
   ],
   "source": [
    "train = pd.read_csv(\"train.csv\", index_col=None)\n",
    "test = pd.read_csv(\"test.csv\", index_col=None)\n",
    "submission = pd.read_csv(\"sample_submission.csv\", index_col=None)\n",
    "\n",
    "train.shape, test.shape, submission.shape"
   ]
  },
  {
   "cell_type": "markdown",
   "metadata": {},
   "source": [
    "# Preparing data"
   ]
  },
  {
   "cell_type": "code",
   "execution_count": 79,
   "metadata": {},
   "outputs": [],
   "source": [
    "campaign_data = pd.read_csv(\"campaign_data.csv\", index_col=None)\n",
    "coupon_item_mapping = pd.read_csv(\"coupon_item_mapping.csv\", index_col=None)\n",
    "item_data = pd.read_csv(\"item_data.csv\", index_col=None)\n",
    "customer_transaction_data = pd.read_csv(\"customer_transaction_data.csv\", index_col=None)\n",
    "customer_data = pd.read_csv(\"customer_demographics.csv\", index_col=None)"
   ]
  },
  {
   "cell_type": "code",
   "execution_count": 80,
   "metadata": {},
   "outputs": [],
   "source": [
    "campaign_data['end_date'] = pd.to_datetime(campaign_data['end_date'], format='%d/%m/%y')\n",
    "campaign_data['start_date'] = pd.to_datetime(campaign_data['start_date'], format='%d/%m/%y')\n",
    "campaign_data['_campaign_duration'] = (campaign_data['end_date'] - campaign_data['start_date']).dt.days"
   ]
  },
  {
   "cell_type": "code",
   "execution_count": 81,
   "metadata": {},
   "outputs": [],
   "source": [
    "customer_transaction_data = pd.merge(customer_transaction_data, item_data, on='item_id', how='left')\n",
    "\n",
    "customer_transaction_data['coupon_discount'] = customer_transaction_data['coupon_discount']*-1\n",
    "customer_transaction_data['other_discount'] = customer_transaction_data['other_discount']*-1\n",
    "\n",
    "customer_transaction_data['coupon_discount_pct'] = (customer_transaction_data['coupon_discount'] /\n",
    "                                                    (customer_transaction_data['selling_price'] +\n",
    "                                                     customer_transaction_data['coupon_discount']))\n",
    "\n",
    "customer_transaction_data['other_discount_pct'] = (customer_transaction_data['other_discount'] /\n",
    "                                                   (customer_transaction_data['selling_price'] +\n",
    "                                                    customer_transaction_data['other_discount']))\n",
    "\n",
    "customer_transaction_data['date'] = pd.to_datetime(customer_transaction_data['date'])"
   ]
  },
  {
   "cell_type": "code",
   "execution_count": 82,
   "metadata": {},
   "outputs": [],
   "source": [
    "train = pd.merge(train, customer_data, on='customer_id', how='left')\n",
    "test = pd.merge(test, customer_data, on='customer_id', how='left')\n",
    "\n",
    "train = pd.merge(train, campaign_data, on='campaign_id', how='left')\n",
    "test = pd.merge(test, campaign_data, on='campaign_id', how='left')"
   ]
  },
  {
   "cell_type": "code",
   "execution_count": 83,
   "metadata": {},
   "outputs": [],
   "source": [
    "def split_vals(x, campaigns):\n",
    "    return (x[~x.campaign_id.isin(campaigns)].reset_index(drop=True), \n",
    "            x[x.campaign_id.isin(campaigns)].reset_index(drop=True))"
   ]
  },
  {
   "cell_type": "code",
   "execution_count": 84,
   "metadata": {},
   "outputs": [
    {
     "data": {
      "application/vnd.jupyter.widget-view+json": {
       "model_id": "cb5749550bf5490dbf8660992e290b52",
       "version_major": 2,
       "version_minor": 0
      },
      "text/plain": [
       "HBox(children=(IntProgress(value=0, max=4), HTML(value='')))"
      ]
     },
     "metadata": {},
     "output_type": "display_data"
    },
    {
     "name": "stdout",
     "output_type": "stream",
     "text": [
      "\n"
     ]
    }
   ],
   "source": [
    "coupon_item_mapping = pd.merge(coupon_item_mapping, item_data, on='item_id', how='left')\n",
    "\n",
    "for col in tqdm(['item_id', 'brand', 'brand_type', 'category']):\n",
    "    agg_df = coupon_item_mapping.groupby('coupon_id')[col].nunique().to_frame('_unique_'+col+'_per_coupon')\n",
    "    agg_df = agg_df.reset_index()\n",
    "\n",
    "    train = pd.merge(train, agg_df, on='coupon_id', how='left')\n",
    "    test = pd.merge(test, agg_df, on='coupon_id', how='left')"
   ]
  },
  {
   "cell_type": "code",
   "execution_count": 85,
   "metadata": {},
   "outputs": [],
   "source": [
    "coupon_item_set = coupon_item_mapping.groupby('coupon_id').item_id.apply(set).to_frame(\"coupon_items\")"
   ]
  },
  {
   "cell_type": "code",
   "execution_count": 86,
   "metadata": {},
   "outputs": [],
   "source": [
    "train = pd.merge(train, coupon_item_set, on='coupon_id', how='left')\n",
    "test = pd.merge(test, coupon_item_set, on='coupon_id', how='left')"
   ]
  },
  {
   "cell_type": "code",
   "execution_count": 87,
   "metadata": {},
   "outputs": [],
   "source": [
    "customer_transaction_data = customer_transaction_data.drop_duplicates()\n",
    "desired_customers = train['customer_id']+test['customer_id']\n",
    "customer_transaction_data = customer_transaction_data[customer_transaction_data.customer_id.isin(desired_customers)]\n",
    "customer_transaction_data = customer_transaction_data.reset_index(drop=True)"
   ]
  },
  {
   "cell_type": "code",
   "execution_count": null,
   "metadata": {},
   "outputs": [],
   "source": []
  },
  {
   "cell_type": "markdown",
   "metadata": {},
   "source": [
    "# train test split"
   ]
  },
  {
   "cell_type": "code",
   "execution_count": 88,
   "metadata": {},
   "outputs": [],
   "source": [
    "from sklearn.metrics import roc_auc_score\n",
    "def process_data(df):\n",
    "    for col in ['age_range', 'marital_status', 'family_size', \n",
    "                'no_of_children', 'campaign_type']:\n",
    "        df[col] = df[col].astype('category')\n",
    "#         df[col] = df[col].cat.codes\n",
    "        \n",
    "    return df\n",
    "\n",
    "def scoring_func(x, y): return roc_auc_score"
   ]
  },
  {
   "cell_type": "code",
   "execution_count": 89,
   "metadata": {},
   "outputs": [],
   "source": [
    "train = process_data(train)\n",
    "test = process_data(test)"
   ]
  },
  {
   "cell_type": "code",
   "execution_count": 90,
   "metadata": {},
   "outputs": [],
   "source": [
    "train = train.sort_values(by='start_date').reset_index(drop=True)"
   ]
  },
  {
   "cell_type": "code",
   "execution_count": 91,
   "metadata": {},
   "outputs": [
    {
     "data": {
      "text/plain": [
       "((45540, 20), (32829, 20))"
      ]
     },
     "execution_count": 91,
     "metadata": {},
     "output_type": "execute_result"
    }
   ],
   "source": [
    "valid_campaigns = [9, 10, 11, 12, 13]\n",
    "train_df, valid_df = split_vals(train, valid_campaigns)\n",
    "train_df.shape, valid_df.shape"
   ]
  },
  {
   "cell_type": "code",
   "execution_count": 92,
   "metadata": {},
   "outputs": [
    {
     "data": {
      "text/plain": [
       "(982515, 12)"
      ]
     },
     "execution_count": 92,
     "metadata": {},
     "output_type": "execute_result"
    }
   ],
   "source": [
    "min_campaign_startdate = valid_df.start_date.min()\n",
    "customer_transaction_data_v = customer_transaction_data[customer_transaction_data.date<min_campaign_startdate]\n",
    "customer_transaction_data_v = customer_transaction_data_v.reset_index(drop=True)\n",
    "\n",
    "customer_transaction_data_v.shape"
   ]
  },
  {
   "cell_type": "code",
   "execution_count": null,
   "metadata": {},
   "outputs": [],
   "source": []
  },
  {
   "cell_type": "markdown",
   "metadata": {},
   "source": [
    "## feature engineering"
   ]
  },
  {
   "cell_type": "code",
   "execution_count": 93,
   "metadata": {},
   "outputs": [],
   "source": [
    "def generate_agg_features(overall):\n",
    "    agg_df = overall.groupby('coupon_id').agg({\"campaign_id\": [\"nunique\"],\n",
    "                                               \"customer_id\": [\"nunique\"], \n",
    "                                               \"id\":[\"count\"]})\n",
    "    agg_df.columns = [\"coupon_\" + a +\"_\" + b for a,b in agg_df.columns]\n",
    "    agg_df = agg_df.reset_index()\n",
    "\n",
    "    overall = pd.merge(overall, agg_df, on='coupon_id', how='left')\n",
    "\n",
    "    agg_df = overall.groupby('campaign_id').agg({\"coupon_id\": [\"nunique\"],\n",
    "                                                 \"customer_id\": [\"nunique\"], \n",
    "                                                 \"id\":[\"count\"]})\n",
    "    agg_df.columns = [\"campaign_\" + a +\"_\" + b for a,b in agg_df.columns]\n",
    "    agg_df = agg_df.reset_index()\n",
    "    overall = pd.merge(overall, agg_df, on='campaign_id', how='left')\n",
    "\n",
    "    agg_df = overall.groupby('customer_id').agg({\"campaign_id\": [\"nunique\"],\n",
    "                                                 \"coupon_id\": [\"nunique\"],\n",
    "                                                 \"id\":[\"count\"]\n",
    "                                                })\n",
    "    agg_df.columns = [\"customer_\" + a +\"_\" + b for a,b in agg_df.columns]\n",
    "    agg_df = agg_df.reset_index()\n",
    "    overall = pd.merge(overall, agg_df, on='customer_id', how='left')\n",
    "    \n",
    "    return overall"
   ]
  },
  {
   "cell_type": "code",
   "execution_count": 94,
   "metadata": {},
   "outputs": [],
   "source": [
    "def gen_customer_feature(customer_transaction_data, campaign_start_dates):\n",
    "    customer_seen_items = pd.DataFrame()\n",
    "    for col in tqdm(campaign_start_dates):\n",
    "        temp = customer_transaction_data.groupby('customer_id').agg({\"item_id\":[set, \"nunique\"],\n",
    "                                                                     \"quantity\":\"sum\",\n",
    "                                                                     \"coupon_discount_pct\":\"mean\",\n",
    "                                                                     \"other_discount_pct\":\"mean\",\n",
    "                                                                    })\n",
    "        temp.columns = ['seen_items', 'item_number', 'quantity', \n",
    "                        'coupon_discount_pct_mean', 'other_discount_pct_mean']\n",
    "        temp['qty_per_item'] = temp['quantity'] / temp['item_number']\n",
    "        temp['_start_date'] = col\n",
    "        temp = temp.reset_index()\n",
    "\n",
    "        customer_seen_items = pd.concat((customer_seen_items, temp), axis=0)\n",
    "\n",
    "    return customer_seen_items"
   ]
  },
  {
   "cell_type": "code",
   "execution_count": 95,
   "metadata": {},
   "outputs": [],
   "source": [
    "def merging_customer_feature(customer_seen_items, data):\n",
    "    customer_seen_items = customer_seen_items.sort_values(by='_start_date').reset_index(drop=True)\n",
    "    data = data.sort_values(by='start_date').reset_index(drop=True)\n",
    "\n",
    "    data = pd.merge_asof(data,\n",
    "                            customer_seen_items,\n",
    "                            left_on='start_date',\n",
    "                            right_on='_start_date',\n",
    "                            direction='backward',\n",
    "                            by='customer_id')\n",
    "    \n",
    "#     data['seen_items_count'] = 0\n",
    "    seen_items_index = data['seen_items'].notnull()\n",
    "    data.loc[seen_items_index, \n",
    "             'seen_items_count'] = data.loc[seen_items_index].progress_apply(lambda x: \n",
    "                                                                             len(x['coupon_items'] & x['seen_items']), \n",
    "                                                                             axis=1)\n",
    "    \n",
    "    return data"
   ]
  },
  {
   "cell_type": "code",
   "execution_count": 96,
   "metadata": {},
   "outputs": [],
   "source": [
    "train['is_train'] = 1\n",
    "test['is_train'] = 0\n",
    "\n",
    "overall = pd.concat((train, test), ignore_index=True, sort=False)\n",
    "overall = generate_agg_features(overall)\n",
    "\n",
    "train = overall[overall['is_train']==1].reset_index(drop=True)\n",
    "test = overall[overall['is_train']==0].reset_index(drop=True)"
   ]
  },
  {
   "cell_type": "code",
   "execution_count": 97,
   "metadata": {},
   "outputs": [
    {
     "data": {
      "application/vnd.jupyter.widget-view+json": {
       "model_id": "7886bd1fe90a4997976c5d508bf9739f",
       "version_major": 2,
       "version_minor": 0
      },
      "text/plain": [
       "HBox(children=(IntProgress(value=0, max=17), HTML(value='')))"
      ]
     },
     "metadata": {},
     "output_type": "display_data"
    },
    {
     "name": "stdout",
     "output_type": "stream",
     "text": [
      "\n"
     ]
    },
    {
     "data": {
      "application/vnd.jupyter.widget-view+json": {
       "model_id": "a7558cec5366431db97584977a7d1ce7",
       "version_major": 2,
       "version_minor": 0
      },
      "text/plain": [
       "HBox(children=(IntProgress(value=0, max=75866), HTML(value='')))"
      ]
     },
     "metadata": {},
     "output_type": "display_data"
    },
    {
     "name": "stdout",
     "output_type": "stream",
     "text": [
      "\n"
     ]
    },
    {
     "data": {
      "application/vnd.jupyter.widget-view+json": {
       "model_id": "82e19127147b4ee79109c72874f30d0e",
       "version_major": 2,
       "version_minor": 0
      },
      "text/plain": [
       "HBox(children=(IntProgress(value=0, max=48506), HTML(value='')))"
      ]
     },
     "metadata": {},
     "output_type": "display_data"
    },
    {
     "name": "stdout",
     "output_type": "stream",
     "text": [
      "\n"
     ]
    }
   ],
   "source": [
    "campaign_start_dates = np.unique(np.append(train.start_date.unique(), \n",
    "                                           test.start_date.unique()))\n",
    "\n",
    "campaign_start_dates = train.start_date.unique()\n",
    "customer_features = gen_customer_feature(customer_transaction_data, campaign_start_dates)\n",
    "\n",
    "train = merging_customer_feature(customer_features, train)\n",
    "test = merging_customer_feature(customer_features, test)"
   ]
  },
  {
   "cell_type": "code",
   "execution_count": 98,
   "metadata": {},
   "outputs": [],
   "source": [
    "train_df['is_train'] = 1\n",
    "valid_df['is_train'] = 0\n",
    "\n",
    "overall = pd.concat((train_df, valid_df), ignore_index=True, sort=False)\n",
    "overall = generate_agg_features(overall)\n",
    "\n",
    "train_df = overall[overall['is_train']==1].reset_index(drop=True)\n",
    "valid_df = overall[overall['is_train']==0].reset_index(drop=True)"
   ]
  },
  {
   "cell_type": "code",
   "execution_count": 99,
   "metadata": {},
   "outputs": [
    {
     "data": {
      "application/vnd.jupyter.widget-view+json": {
       "model_id": "81b38e26fd214dbeafecd4df79ffb886",
       "version_major": 2,
       "version_minor": 0
      },
      "text/plain": [
       "HBox(children=(IntProgress(value=0, max=17), HTML(value='')))"
      ]
     },
     "metadata": {},
     "output_type": "display_data"
    },
    {
     "name": "stdout",
     "output_type": "stream",
     "text": [
      "\n"
     ]
    },
    {
     "data": {
      "application/vnd.jupyter.widget-view+json": {
       "model_id": "20275694028c477f9ebb4a142ff08360",
       "version_major": 2,
       "version_minor": 0
      },
      "text/plain": [
       "HBox(children=(IntProgress(value=0, max=44146), HTML(value='')))"
      ]
     },
     "metadata": {},
     "output_type": "display_data"
    },
    {
     "name": "stdout",
     "output_type": "stream",
     "text": [
      "\n"
     ]
    },
    {
     "data": {
      "application/vnd.jupyter.widget-view+json": {
       "model_id": "27b118376b64440997a8ba728929ef5c",
       "version_major": 2,
       "version_minor": 0
      },
      "text/plain": [
       "HBox(children=(IntProgress(value=0, max=31720), HTML(value='')))"
      ]
     },
     "metadata": {},
     "output_type": "display_data"
    },
    {
     "name": "stdout",
     "output_type": "stream",
     "text": [
      "\n"
     ]
    }
   ],
   "source": [
    "campaign_start_dates = np.unique(np.append(train_df.start_date.unique(), \n",
    "                                           valid_df.start_date.unique()))\n",
    "\n",
    "customer_features = gen_customer_feature(customer_transaction_data_v, campaign_start_dates)\n",
    "train_df = merging_customer_feature(customer_features, train_df)\n",
    "valid_df = merging_customer_feature(customer_features, valid_df)"
   ]
  },
  {
   "cell_type": "code",
   "execution_count": 100,
   "metadata": {
    "scrolled": true
   },
   "outputs": [
    {
     "data": {
      "text/plain": [
       "28"
      ]
     },
     "execution_count": 100,
     "metadata": {},
     "output_type": "execute_result"
    }
   ],
   "source": [
    "del overall\n",
    "gc.collect()"
   ]
  },
  {
   "cell_type": "code",
   "execution_count": 101,
   "metadata": {},
   "outputs": [],
   "source": [
    "def generate_coupon_features(customer_transaction_data, train, test):\n",
    "    temp = customer_transaction_data.groupby('item_id').agg({\"customer_id\":\"nunique\",\n",
    "                                                             \"other_discount\":\"sum\",\n",
    "                                                             \"coupon_discount\":\"sum\"\n",
    "                                                            })\n",
    "    temp['coupon_discount_per_customer'] = temp['coupon_discount'] / temp['customer_id']\n",
    "    temp = temp.reset_index()\n",
    "    temp = temp.rename(columns={'customer_id':'item_customers', 'quantity':'item_qty'})\n",
    "\n",
    "    coupon_item_agg = pd.merge(coupon_item_mapping, temp, on='item_id', how='left')\n",
    "    temp = coupon_item_agg.groupby('coupon_id').agg({\"coupon_discount_per_customer\":[\"mean\", \"std\"],\n",
    "                                                     \"item_customers\":[\"mean\",\"std\"],\n",
    "                                                        })\n",
    "    col_names = [a + \"_\" + b for a,b in temp.columns]\n",
    "    temp.columns = col_names\n",
    "    temp = temp.reset_index()\n",
    "\n",
    "    original_col = list(temp.columns)\n",
    "    renamed_col = [col if col!='coupon_id' else col for col in temp.columns]\n",
    "    temp = temp.rename(columns=dict(zip(original_col, renamed_col)))\n",
    "\n",
    "    train = pd.merge(train, temp, on='coupon_id', how='left')\n",
    "    test = pd.merge(test, temp, on='coupon_id', how='left')\n",
    "    \n",
    "    return train, test"
   ]
  },
  {
   "cell_type": "code",
   "execution_count": 102,
   "metadata": {},
   "outputs": [],
   "source": [
    "train, test = generate_coupon_features(customer_transaction_data, train, test)\n",
    "train_df, valid_df = generate_coupon_features(customer_transaction_data_v, train_df, valid_df)"
   ]
  },
  {
   "cell_type": "markdown",
   "metadata": {},
   "source": [
    "## modeling"
   ]
  },
  {
   "cell_type": "code",
   "execution_count": 103,
   "metadata": {
    "scrolled": true
   },
   "outputs": [
    {
     "name": "stdout",
     "output_type": "stream",
     "text": [
      "2012-08-12 00:00:00 2013-05-19 00:00:00 2012-09-21 00:00:00 2013-07-05 00:00:00\n",
      "2013-07-15 00:00:00 2013-10-21 00:00:00 2013-08-16 00:00:00 2013-12-20 00:00:00\n",
      "2012-08-12 00:00:00 2013-02-16 00:00:00 2012-09-21 00:00:00 2013-04-05 00:00:00\n",
      "2013-03-11 00:00:00 2013-05-19 00:00:00 2013-04-12 00:00:00 2013-07-05 00:00:00\n"
     ]
    }
   ],
   "source": [
    "for data in [train, test, train_df, valid_df]:\n",
    "    print(data.start_date.min(), data.start_date.max(),\n",
    "         data.end_date.min(), data.end_date.max())"
   ]
  },
  {
   "cell_type": "markdown",
   "metadata": {},
   "source": [
    "## prediction without seen item count feature"
   ]
  },
  {
   "cell_type": "code",
   "execution_count": 104,
   "metadata": {},
   "outputs": [],
   "source": [
    "predictors = [\n",
    "    'coupon_id',\n",
    "    'campaign_type',\n",
    "    '_campaign_duration',\n",
    "    'income_bracket',\n",
    "    '_unique_item_id_per_coupon',\n",
    "    '_unique_brand_per_coupon',\n",
    "    '_unique_category_per_coupon',\n",
    "    'coupon_discount_pct_mean',\n",
    "    'other_discount_pct_mean',\n",
    "    'qty_per_item',\n",
    "    'coupon_discount_per_customer_mean',\n",
    "    'item_customers_mean',\n",
    "    'coupon_id_count',\n",
    "    'campaign_id_count',\n",
    "    'customer_id_count',\n",
    "    'item_number']"
   ]
  },
  {
   "cell_type": "code",
   "execution_count": 105,
   "metadata": {},
   "outputs": [
    {
     "name": "stdout",
     "output_type": "stream",
     "text": [
      "Training until validation scores don't improve for 500 rounds.\n",
      "[100]\tvalid_0's auc: 0.865677\tvalid_0's binary_logloss: 0.0624888\n",
      "[200]\tvalid_0's auc: 0.868064\tvalid_0's binary_logloss: 0.0602325\n",
      "[300]\tvalid_0's auc: 0.871235\tvalid_0's binary_logloss: 0.0587067\n",
      "[400]\tvalid_0's auc: 0.873618\tvalid_0's binary_logloss: 0.057457\n",
      "[500]\tvalid_0's auc: 0.874558\tvalid_0's binary_logloss: 0.0564186\n",
      "[600]\tvalid_0's auc: 0.874581\tvalid_0's binary_logloss: 0.0556062\n",
      "[700]\tvalid_0's auc: 0.874067\tvalid_0's binary_logloss: 0.054917\n",
      "[800]\tvalid_0's auc: 0.874032\tvalid_0's binary_logloss: 0.0543513\n",
      "[900]\tvalid_0's auc: 0.873677\tvalid_0's binary_logloss: 0.0538781\n",
      "[1000]\tvalid_0's auc: 0.873356\tvalid_0's binary_logloss: 0.0534836\n",
      "Early stopping, best iteration is:\n",
      "[525]\tvalid_0's auc: 0.874953\tvalid_0's binary_logloss: 0.0562121\n",
      "train 0.9758663600480069 valid 0.8749533428434377\n"
     ]
    }
   ],
   "source": [
    "m = lgb.LGBMClassifier(n_estimators=10000, \n",
    "#                                   max_depth=4, \n",
    "                                  learning_rate=0.0011, \n",
    "                                  colsample_bytree=0.5)\n",
    "\n",
    "m.fit(train_df[predictors],\n",
    "      train_df[target],\n",
    "      eval_set=[(valid_df[predictors],\n",
    "                 valid_df[target])],\n",
    "      eval_metric='auc', \n",
    "      early_stopping_rounds=500,\n",
    "      verbose=100)\n",
    "\n",
    "train_score = m.predict_proba(train_df[predictors])[:,1]\n",
    "valid_score = m.predict_proba(valid_df[predictors])[:,1]\n",
    "print(\"train {} valid {}\".format(roc_auc_score(train_df[target], train_score),\n",
    "                                 roc_auc_score(valid_df[target], valid_score)))"
   ]
  },
  {
   "cell_type": "code",
   "execution_count": 106,
   "metadata": {},
   "outputs": [],
   "source": [
    "predictors = [\n",
    "    'coupon_id',\n",
    "    'campaign_type',\n",
    "    '_campaign_duration',\n",
    "    'income_bracket',\n",
    "    '_unique_item_id_per_coupon',\n",
    "    '_unique_brand_per_coupon',\n",
    "    '_unique_category_per_coupon',\n",
    "    'coupon_discount_pct_mean',\n",
    "    'other_discount_pct_mean',\n",
    "    'qty_per_item',\n",
    "    'coupon_discount_per_customer_mean',\n",
    "    'item_customers_mean',\n",
    "    'coupon_id_count',\n",
    "    'campaign_id_count',\n",
    "    'customer_id_count',\n",
    "    'item_number',\n",
    "    'seen_items_count']"
   ]
  },
  {
   "cell_type": "code",
   "execution_count": 107,
   "metadata": {},
   "outputs": [
    {
     "name": "stdout",
     "output_type": "stream",
     "text": [
      "Training until validation scores don't improve for 500 rounds.\n",
      "[100]\tvalid_0's auc: 0.924575\tvalid_0's binary_logloss: 0.0594632\n",
      "[200]\tvalid_0's auc: 0.926038\tvalid_0's binary_logloss: 0.0560648\n",
      "[300]\tvalid_0's auc: 0.927151\tvalid_0's binary_logloss: 0.0537675\n",
      "[400]\tvalid_0's auc: 0.927529\tvalid_0's binary_logloss: 0.051973\n",
      "[500]\tvalid_0's auc: 0.927827\tvalid_0's binary_logloss: 0.0505883\n",
      "[600]\tvalid_0's auc: 0.927891\tvalid_0's binary_logloss: 0.049515\n",
      "[700]\tvalid_0's auc: 0.927768\tvalid_0's binary_logloss: 0.048612\n",
      "[800]\tvalid_0's auc: 0.927634\tvalid_0's binary_logloss: 0.0478412\n",
      "[900]\tvalid_0's auc: 0.927415\tvalid_0's binary_logloss: 0.0472192\n",
      "[1000]\tvalid_0's auc: 0.927356\tvalid_0's binary_logloss: 0.0466603\n",
      "[1100]\tvalid_0's auc: 0.926894\tvalid_0's binary_logloss: 0.0462305\n",
      "Early stopping, best iteration is:\n",
      "[666]\tvalid_0's auc: 0.928032\tvalid_0's binary_logloss: 0.0488844\n",
      "train 0.9969230718435255 valid 0.9280317761645901\n"
     ]
    }
   ],
   "source": [
    "m = lgb.LGBMClassifier(n_estimators=10000, \n",
    "#                                   max_depth=4, \n",
    "                                  learning_rate=0.0011, \n",
    "                                  colsample_bytree=0.5)\n",
    "\n",
    "m.fit(train_df[predictors],\n",
    "      train_df[target],\n",
    "      eval_set=[(valid_df[predictors],\n",
    "                 valid_df[target])],\n",
    "      eval_metric='auc', \n",
    "      early_stopping_rounds=500,\n",
    "      verbose=100)\n",
    "\n",
    "train_score = m.predict_proba(train_df[predictors])[:,1]\n",
    "valid_score = m.predict_proba(valid_df[predictors])[:,1]\n",
    "print(\"train {} valid {}\".format(roc_auc_score(train_df[target], train_score),\n",
    "                                 roc_auc_score(valid_df[target], valid_score)))"
   ]
  },
  {
   "cell_type": "code",
   "execution_count": 108,
   "metadata": {
    "scrolled": false
   },
   "outputs": [
    {
     "data": {
      "text/plain": [
       "<matplotlib.axes._subplots.AxesSubplot at 0x1a35825208>"
      ]
     },
     "execution_count": 108,
     "metadata": {},
     "output_type": "execute_result"
    },
    {
     "data": {
      "image/png": "[encoded data removed]",
      "text/plain": [
       "<Figure size 720x720 with 1 Axes>"
      ]
     },
     "metadata": {
      "needs_background": "light"
     },
     "output_type": "display_data"
    }
   ],
   "source": [
    "lgb.plot_importance(m, figsize=(10,10))"
   ]
  },
  {
   "cell_type": "code",
   "execution_count": 109,
   "metadata": {
    "scrolled": true
   },
   "outputs": [
    {
     "data": {
      "text/plain": [
       "666"
      ]
     },
     "execution_count": 109,
     "metadata": {},
     "output_type": "execute_result"
    }
   ],
   "source": [
    "m.best_iteration_"
   ]
  },
  {
   "cell_type": "markdown",
   "metadata": {},
   "source": [
    "## single model based prediction"
   ]
  },
  {
   "cell_type": "code",
   "execution_count": 110,
   "metadata": {},
   "outputs": [],
   "source": [
    "# X_train = train[predictors].copy()\n",
    "# y_train = train[target]\n",
    "\n",
    "# X_test = test[predictors].copy()\n",
    "# y_test = test[target]"
   ]
  },
  {
   "cell_type": "code",
   "execution_count": 111,
   "metadata": {},
   "outputs": [],
   "source": [
    "# m_final = lgb.LGBMClassifier(n_estimators=1800, \n",
    "# #                                   max_depth=4, \n",
    "#                                   learning_rate=0.0011, \n",
    "#                                   colsample_bytree=0.5)\n",
    "\n",
    "# m_final.fit(X_train, y_train)\n",
    "# print(\"test score {} \".format(roc_auc_score(y_test, \n",
    "#                                             m_final.predict_proba(X_test)[:,1])))"
   ]
  },
  {
   "cell_type": "code",
   "execution_count": null,
   "metadata": {},
   "outputs": [],
   "source": []
  },
  {
   "cell_type": "markdown",
   "metadata": {},
   "source": [
    "# Final Solution - GroupKFold CV "
   ]
  },
  {
   "cell_type": "code",
   "execution_count": 112,
   "metadata": {},
   "outputs": [],
   "source": [
    "train = train.sort_values(by='start_date').reset_index(drop=True)"
   ]
  },
  {
   "cell_type": "code",
   "execution_count": 113,
   "metadata": {},
   "outputs": [],
   "source": [
    "X_train = train.copy()\n",
    "y_train = train[target]\n",
    "\n",
    "X_test = test.copy()\n",
    "y_test = test[target]"
   ]
  },
  {
   "cell_type": "code",
   "execution_count": 114,
   "metadata": {},
   "outputs": [],
   "source": [
    "group = X_train['campaign_id'].values"
   ]
  },
  {
   "cell_type": "code",
   "execution_count": 115,
   "metadata": {},
   "outputs": [],
   "source": [
    "predictors = ['coupon_id',\n",
    " 'campaign_type',\n",
    " '_campaign_duration',\n",
    " 'income_bracket',\n",
    " '_unique_item_id_per_coupon',\n",
    " '_unique_brand_per_coupon',\n",
    " '_unique_category_per_coupon',\n",
    " 'coupon_id_count',\n",
    " 'campaign_id_count',\n",
    " 'customer_id_count',\n",
    "]\n",
    "\n",
    "predictors2 = ['coupon_discount_pct_mean',\n",
    " 'other_discount_pct_mean',\n",
    " 'qty_per_item',\n",
    " 'seen_items_count',\n",
    " 'coupon_discount_per_customer_mean',\n",
    " 'item_customers_mean']\n",
    "    \n",
    "drop_cols = ['start_date', 'customer_id', 'coupon_items', 'id']\n",
    "drop_cols2 = ['seen_items', '_start_date', 'item_number', \n",
    "              'quantity', 'coupon_discount_per_customer_std', 'item_customers_std']"
   ]
  },
  {
   "cell_type": "code",
   "execution_count": 116,
   "metadata": {},
   "outputs": [],
   "source": [
    "X_train = X_train[predictors+drop_cols+[target]]\n",
    "X_test = X_test[predictors+predictors2]"
   ]
  },
  {
   "cell_type": "code",
   "execution_count": 117,
   "metadata": {
    "scrolled": true
   },
   "outputs": [
    {
     "data": {
      "application/vnd.jupyter.widget-view+json": {
       "model_id": "0f31981b327a47728228e419024f6fff",
       "version_major": 2,
       "version_minor": 0
      },
      "text/plain": [
       "HBox(children=(IntProgress(value=0, max=17), HTML(value='')))"
      ]
     },
     "metadata": {},
     "output_type": "display_data"
    },
    {
     "name": "stdout",
     "output_type": "stream",
     "text": [
      "\n"
     ]
    },
    {
     "data": {
      "application/vnd.jupyter.widget-view+json": {
       "model_id": "545a7a7107424c56902d2b22cda17c47",
       "version_major": 2,
       "version_minor": 0
      },
      "text/plain": [
       "HBox(children=(IntProgress(value=0, max=53950), HTML(value='')))"
      ]
     },
     "metadata": {},
     "output_type": "display_data"
    },
    {
     "name": "stdout",
     "output_type": "stream",
     "text": [
      "\n"
     ]
    },
    {
     "data": {
      "application/vnd.jupyter.widget-view+json": {
       "model_id": "c97959e25aac4beb94d4faf21e0732e2",
       "version_major": 2,
       "version_minor": 0
      },
      "text/plain": [
       "HBox(children=(IntProgress(value=0, max=21916), HTML(value='')))"
      ]
     },
     "metadata": {},
     "output_type": "display_data"
    },
    {
     "name": "stdout",
     "output_type": "stream",
     "text": [
      "\n",
      "Fold 1 Score 0.9370836774015966\n"
     ]
    },
    {
     "data": {
      "application/vnd.jupyter.widget-view+json": {
       "model_id": "e773d4f2dd854bc4bbfc60039b1c8557",
       "version_major": 2,
       "version_minor": 0
      },
      "text/plain": [
       "HBox(children=(IntProgress(value=0, max=17), HTML(value='')))"
      ]
     },
     "metadata": {},
     "output_type": "display_data"
    },
    {
     "name": "stdout",
     "output_type": "stream",
     "text": [
      "\n"
     ]
    },
    {
     "data": {
      "application/vnd.jupyter.widget-view+json": {
       "model_id": "747b41233a484837bb77064f38f05e1f",
       "version_major": 2,
       "version_minor": 0
      },
      "text/plain": [
       "HBox(children=(IntProgress(value=0, max=54008), HTML(value='')))"
      ]
     },
     "metadata": {},
     "output_type": "display_data"
    },
    {
     "name": "stdout",
     "output_type": "stream",
     "text": [
      "\n"
     ]
    },
    {
     "data": {
      "application/vnd.jupyter.widget-view+json": {
       "model_id": "dba183ca5e4b43a1b208818767ac5f08",
       "version_major": 2,
       "version_minor": 0
      },
      "text/plain": [
       "HBox(children=(IntProgress(value=0, max=21858), HTML(value='')))"
      ]
     },
     "metadata": {},
     "output_type": "display_data"
    },
    {
     "name": "stdout",
     "output_type": "stream",
     "text": [
      "\n",
      "Fold 2 Score 0.9491528585852864\n"
     ]
    },
    {
     "data": {
      "application/vnd.jupyter.widget-view+json": {
       "model_id": "6fce911aa78e43bd8c2361a6fad5bfa2",
       "version_major": 2,
       "version_minor": 0
      },
      "text/plain": [
       "HBox(children=(IntProgress(value=0, max=17), HTML(value='')))"
      ]
     },
     "metadata": {},
     "output_type": "display_data"
    },
    {
     "name": "stdout",
     "output_type": "stream",
     "text": [
      "\n"
     ]
    },
    {
     "data": {
      "application/vnd.jupyter.widget-view+json": {
       "model_id": "182e13af6d7e4fada5e83a7ac0ff7244",
       "version_major": 2,
       "version_minor": 0
      },
      "text/plain": [
       "HBox(children=(IntProgress(value=0, max=65123), HTML(value='')))"
      ]
     },
     "metadata": {},
     "output_type": "display_data"
    },
    {
     "name": "stdout",
     "output_type": "stream",
     "text": [
      "\n"
     ]
    },
    {
     "data": {
      "application/vnd.jupyter.widget-view+json": {
       "model_id": "0aded1a515be46ca87af73a6d5905248",
       "version_major": 2,
       "version_minor": 0
      },
      "text/plain": [
       "HBox(children=(IntProgress(value=0, max=10743), HTML(value='')))"
      ]
     },
     "metadata": {},
     "output_type": "display_data"
    },
    {
     "name": "stdout",
     "output_type": "stream",
     "text": [
      "\n",
      "Fold 3 Score 0.8387392779341019\n"
     ]
    },
    {
     "data": {
      "application/vnd.jupyter.widget-view+json": {
       "model_id": "b05d49c28c3a450a9469b357184bf6fe",
       "version_major": 2,
       "version_minor": 0
      },
      "text/plain": [
       "HBox(children=(IntProgress(value=0, max=17), HTML(value='')))"
      ]
     },
     "metadata": {},
     "output_type": "display_data"
    },
    {
     "name": "stdout",
     "output_type": "stream",
     "text": [
      "\n"
     ]
    },
    {
     "data": {
      "application/vnd.jupyter.widget-view+json": {
       "model_id": "9916721959c6429b8f116bf7afc26237",
       "version_major": 2,
       "version_minor": 0
      },
      "text/plain": [
       "HBox(children=(IntProgress(value=0, max=65088), HTML(value='')))"
      ]
     },
     "metadata": {},
     "output_type": "display_data"
    },
    {
     "name": "stdout",
     "output_type": "stream",
     "text": [
      "\n"
     ]
    },
    {
     "data": {
      "application/vnd.jupyter.widget-view+json": {
       "model_id": "cb6e293ad55547aea5372b87f348c422",
       "version_major": 2,
       "version_minor": 0
      },
      "text/plain": [
       "HBox(children=(IntProgress(value=0, max=10778), HTML(value='')))"
      ]
     },
     "metadata": {},
     "output_type": "display_data"
    },
    {
     "name": "stdout",
     "output_type": "stream",
     "text": [
      "\n",
      "Fold 4 Score 0.8700730064048234\n"
     ]
    },
    {
     "data": {
      "application/vnd.jupyter.widget-view+json": {
       "model_id": "59fbe0fe6b26466d800d281b79b2bdff",
       "version_major": 2,
       "version_minor": 0
      },
      "text/plain": [
       "HBox(children=(IntProgress(value=0, max=17), HTML(value='')))"
      ]
     },
     "metadata": {},
     "output_type": "display_data"
    },
    {
     "name": "stdout",
     "output_type": "stream",
     "text": [
      "\n"
     ]
    },
    {
     "data": {
      "application/vnd.jupyter.widget-view+json": {
       "model_id": "9f3ba56b8dca478c9d37c0d4a735c2ae",
       "version_major": 2,
       "version_minor": 0
      },
      "text/plain": [
       "HBox(children=(IntProgress(value=0, max=65295), HTML(value='')))"
      ]
     },
     "metadata": {},
     "output_type": "display_data"
    },
    {
     "name": "stdout",
     "output_type": "stream",
     "text": [
      "\n"
     ]
    },
    {
     "data": {
      "application/vnd.jupyter.widget-view+json": {
       "model_id": "dd59ce94de6545798041e9137748a459",
       "version_major": 2,
       "version_minor": 0
      },
      "text/plain": [
       "HBox(children=(IntProgress(value=0, max=10571), HTML(value='')))"
      ]
     },
     "metadata": {},
     "output_type": "display_data"
    },
    {
     "name": "stdout",
     "output_type": "stream",
     "text": [
      "\n",
      "Fold 5 Score 0.8068118481464194\n",
      "CV Score is 0.9012977044344515\n"
     ]
    }
   ],
   "source": [
    "from sklearn.model_selection import KFold, StratifiedKFold, TimeSeriesSplit, cross_val_predict, GroupKFold\n",
    "from sklearn.metrics import roc_auc_score\n",
    "def scoring(y_true, y_hat):\n",
    "    return roc_auc_score(y_true, y_hat)\n",
    "\n",
    "kf = GroupKFold(n_splits=5)\n",
    "    \n",
    "val_scores = []\n",
    "true_vals = []\n",
    "prediction_vals = []\n",
    "test_prediction = []\n",
    "for n_fold, (train_index, test_index) in (enumerate(kf.split(X_train, y_train, groups=group))):\n",
    "    X_train_temp = X_train.iloc[train_index].reset_index(drop=True)\n",
    "    X_val_temp = X_train.iloc[test_index].reset_index(drop=True)\n",
    "    X_test_temp = X_test.reset_index(drop=True)\n",
    "    \n",
    "    # determining transaction history based of minimum campaign start date\n",
    "    min_campaign_startdate = X_val_temp.start_date.min()\n",
    "    customer_transaction_data_v = customer_transaction_data[customer_transaction_data.date<min_campaign_startdate]\n",
    "    customer_transaction_data_v = customer_transaction_data_v.reset_index(drop=True)\n",
    "\n",
    "    # finding unique campaign start date\n",
    "    campaign_start_dates = np.unique(np.append(X_train_temp.start_date.unique(), \n",
    "                                               X_val_temp.start_date.unique()))\n",
    "\n",
    "    # customer features\n",
    "    customer_features = gen_customer_feature(customer_transaction_data_v, campaign_start_dates)\n",
    "    X_train_temp = merging_customer_feature(customer_features, X_train_temp)\n",
    "    X_val_temp = merging_customer_feature(customer_features, X_val_temp)\n",
    "    \n",
    "    # coupon features\n",
    "    X_train_temp, X_val_temp = generate_coupon_features(customer_transaction_data_v, \n",
    "                                                        X_train_temp, \n",
    "                                                        X_val_temp)\n",
    "    \n",
    "    y_train_temp = X_train_temp[target]\n",
    "    X_train_temp = X_train_temp.drop(target, axis=1)\n",
    "    y_val_temp = X_val_temp[target]\n",
    "    X_val_temp = X_val_temp.drop(target, axis=1)\n",
    "\n",
    "    X_train_temp.drop(drop_cols+drop_cols2, axis=1, inplace=True)\n",
    "    X_val_temp.drop(drop_cols+drop_cols2, axis=1, inplace=True)\n",
    "\n",
    "    model = lgb.LGBMClassifier(n_estimators=10000, \n",
    "#                                   max_depth=4, \n",
    "#                       seed=seed,\n",
    "                      learning_rate=0.0011, \n",
    "                      colsample_bytree=0.4)\n",
    "\n",
    "    model.fit(X_train_temp,\n",
    "          y_train_temp,\n",
    "          eval_set=[(X_val_temp,\n",
    "                     y_val_temp)],\n",
    "          eval_metric='auc', \n",
    "          early_stopping_rounds=500, \n",
    "          verbose=0)\n",
    "\n",
    "    # valid prediction\n",
    "    y_hat_valid = model.predict_proba(X_val_temp)[:, 1]\n",
    "    \n",
    "    # test prediction\n",
    "    X_test_temp = X_test_temp.reindex(columns=X_train_temp.columns)\n",
    "    y_hat_test = model.predict_proba(X_test_temp)[:, 1]\n",
    "\n",
    "    prediction_vals.extend(y_hat_valid)\n",
    "    true_vals.extend(y_val_temp)\n",
    "    test_prediction.append(y_hat_test)\n",
    "\n",
    "    # calculate score \n",
    "    score_valid = scoring(y_val_temp, y_hat_valid)\n",
    "    val_scores.append(score_valid)\n",
    "    print(\"Fold {} Score {}\".format(n_fold+1, score_valid))\n",
    "print(\"CV Score is {}\".format(scoring(true_vals, prediction_vals)))"
   ]
  },
  {
   "cell_type": "code",
   "execution_count": 118,
   "metadata": {},
   "outputs": [],
   "source": [
    "preds = np.mean(test_prediction, axis=0)"
   ]
  },
  {
   "cell_type": "code",
   "execution_count": 119,
   "metadata": {
    "scrolled": true
   },
   "outputs": [],
   "source": [
    "# roc_auc_score(y_test, preds)"
   ]
  },
  {
   "cell_type": "code",
   "execution_count": null,
   "metadata": {},
   "outputs": [],
   "source": []
  },
  {
   "cell_type": "code",
   "execution_count": null,
   "metadata": {},
   "outputs": [],
   "source": []
  },
  {
   "cell_type": "code",
   "execution_count": null,
   "metadata": {},
   "outputs": [],
   "source": []
  }
 ],
 "metadata": {
  "kernelspec": {
   "display_name": "Python 3",
   "language": "python",
   "name": "python3"
  },
  "language_info": {
   "codemirror_mode": {
    "name": "ipython",
    "version": 3
   },
   "file_extension": ".py",
   "mimetype": "text/x-python",
   "name": "python",
   "nbconvert_exporter": "python",
   "pygments_lexer": "ipython3",
   "version": "3.6.9"
  },
  "toc": {
   "base_numbering": 1,
   "nav_menu": {},
   "number_sections": true,
   "sideBar": true,
   "skip_h1_title": false,
   "title_cell": "Table of Contents",
   "title_sidebar": "Contents",
   "toc_cell": false,
   "toc_position": {
    "height": "656px",
    "left": "401px",
    "top": "110px",
    "width": "220px"
   },
   "toc_section_display": true,
   "toc_window_display": true
  }
 },
 "nbformat": 4,
 "nbformat_minor": 2
}
