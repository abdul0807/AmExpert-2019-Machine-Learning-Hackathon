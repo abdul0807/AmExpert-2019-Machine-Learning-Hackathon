{
 "cells": [
  {
   "cell_type": "markdown",
   "metadata": {
    "toc": true
   },
   "source": [
    "<h1>Table of Contents<span class=\"tocSkip\"></span></h1>\n",
    "<div class=\"toc\"><ul class=\"toc-item\"><li><span><a href=\"#Preparing-data\" data-toc-modified-id=\"Preparing-data-1\"><span class=\"toc-item-num\">1&nbsp;&nbsp;</span>Preparing data</a></span></li><li><span><a href=\"#train-test-split\" data-toc-modified-id=\"train-test-split-2\"><span class=\"toc-item-num\">2&nbsp;&nbsp;</span>train test split</a></span></li><li><span><a href=\"#feature-engineering\" data-toc-modified-id=\"feature-engineering-3\"><span class=\"toc-item-num\">3&nbsp;&nbsp;</span>feature engineering</a></span></li><li><span><a href=\"#modeling\" data-toc-modified-id=\"modeling-4\"><span class=\"toc-item-num\">4&nbsp;&nbsp;</span>modeling</a></span><ul class=\"toc-item\"><li><span><a href=\"#prediction-without-seen-item-count-feature\" data-toc-modified-id=\"prediction-without-seen-item-count-feature-4.1\"><span class=\"toc-item-num\">4.1&nbsp;&nbsp;</span>prediction without seen item count feature</a></span></li><li><span><a href=\"#single-model-based-prediction\" data-toc-modified-id=\"single-model-based-prediction-4.2\"><span class=\"toc-item-num\">4.2&nbsp;&nbsp;</span>single model based prediction</a></span></li></ul></li><li><span><a href=\"#Final-Solution---GroupKFold-CV\" data-toc-modified-id=\"Final-Solution---GroupKFold-CV-5\"><span class=\"toc-item-num\">5&nbsp;&nbsp;</span>Final Solution - GroupKFold CV</a></span></li></ul></div>"
   ]
  },
  {
   "cell_type": "code",
   "execution_count": 1,
   "metadata": {},
   "outputs": [
    {
     "data": {
      "application/vnd.jupyter.widget-view+json": {
       "model_id": "ab093380fe4c4676ad558ee4f0c90fe5",
       "version_major": 2,
       "version_minor": 0
      },
      "text/plain": [
       "HBox(children=(IntProgress(value=1, bar_style='info', max=1), HTML(value='')))"
      ]
     },
     "metadata": {},
     "output_type": "display_data"
    },
    {
     "name": "stdout",
     "output_type": "stream",
     "text": [
      "\n"
     ]
    },
    {
     "name": "stderr",
     "output_type": "stream",
     "text": [
      "/Users/abdulqam/.conda/envs/python3/lib/python3.6/site-packages/lightgbm/__init__.py:46: UserWarning: Starting from version 2.2.1, the library file in distribution wheels for macOS is built by the Apple Clang (Xcode_9.4.1) compiler.\n",
      "This means that in case of installing LightGBM from PyPI via the ``pip install lightgbm`` command, you don't need to install the gcc compiler anymore.\n",
      "Instead of that, you need to install the OpenMP library, which is required for running LightGBM on the system with the Apple Clang compiler.\n",
      "You can install the OpenMP library by the following command: ``brew install libomp``.\n",
      "  \"You can install the OpenMP library by the following command: ``brew install libomp``.\", UserWarning)\n"
     ]
    }
   ],
   "source": [
    "%matplotlib inline\n",
    "%load_ext autoreload\n",
    "%autoreload 2\n",
    "\n",
    "import sys\n",
    "import pandas as pd\n",
    "import numpy as np\n",
    "\n",
    "import os\n",
    "import gc\n",
    "from datetime import timedelta\n",
    "from tqdm import tqdm_notebook as tqdm\n",
    "tqdm().pandas()\n",
    "\n",
    "import lightgbm as lgb\n",
    "from scipy.stats import hmean"
   ]
  },
  {
   "cell_type": "code",
   "execution_count": 2,
   "metadata": {},
   "outputs": [],
   "source": [
    "target = 'redemption_status'\n",
    "id_cols = ['id', 'campaign_id']"
   ]
  },
  {
   "cell_type": "code",
   "execution_count": 3,
   "metadata": {},
   "outputs": [
    {
     "data": {
      "text/plain": [
       "(78369, 5)"
      ]
     },
     "execution_count": 3,
     "metadata": {},
     "output_type": "execute_result"
    }
   ],
   "source": [
    "train = pd.read_csv(\"train.csv\", index_col=None)\n",
    "# test = pd.read_csv(\"test.csv\", index_col=None)\n",
    "# submission = pd.read_csv(\"sample_submission.csv\", index_col=None)\n",
    "\n",
    "train.shape\n",
    "# , test.shape, submission.shape"
   ]
  },
  {
   "cell_type": "markdown",
   "metadata": {},
   "source": [
    "# Preparing data"
   ]
  },
  {
   "cell_type": "code",
   "execution_count": 4,
   "metadata": {},
   "outputs": [],
   "source": [
    "campaign_data = pd.read_csv(\"campaign_data.csv\", index_col=None)\n",
    "coupon_item_mapping = pd.read_csv(\"coupon_item_mapping.csv\", index_col=None)\n",
    "item_data = pd.read_csv(\"item_data.csv\", index_col=None)\n",
    "customer_transaction_data = pd.read_csv(\"customer_transaction_data.csv\", index_col=None)\n",
    "customer_data = pd.read_csv(\"customer_demographics.csv\", index_col=None)"
   ]
  },
  {
   "cell_type": "code",
   "execution_count": 5,
   "metadata": {},
   "outputs": [],
   "source": [
    "campaign_data['end_date'] = pd.to_datetime(campaign_data['end_date'], format='%d/%m/%y')\n",
    "campaign_data['start_date'] = pd.to_datetime(campaign_data['start_date'], format='%d/%m/%y')\n",
    "campaign_data['_campaign_duration'] = (campaign_data['end_date'] - campaign_data['start_date']).dt.days"
   ]
  },
  {
   "cell_type": "code",
   "execution_count": 6,
   "metadata": {},
   "outputs": [],
   "source": [
    "customer_transaction_data = pd.merge(customer_transaction_data, item_data, on='item_id', how='left')\n",
    "\n",
    "customer_transaction_data['coupon_discount'] = customer_transaction_data['coupon_discount']*-1\n",
    "customer_transaction_data['other_discount'] = customer_transaction_data['other_discount']*-1\n",
    "\n",
    "customer_transaction_data['coupon_discount_pct'] = (customer_transaction_data['coupon_discount'] /\n",
    "                                                    (customer_transaction_data['selling_price'] +\n",
    "                                                     customer_transaction_data['coupon_discount']))\n",
    "\n",
    "customer_transaction_data['other_discount_pct'] = (customer_transaction_data['other_discount'] /\n",
    "                                                   (customer_transaction_data['selling_price'] +\n",
    "                                                    customer_transaction_data['other_discount']))\n",
    "\n",
    "customer_transaction_data['date'] = pd.to_datetime(customer_transaction_data['date'])"
   ]
  },
  {
   "cell_type": "code",
   "execution_count": 7,
   "metadata": {},
   "outputs": [],
   "source": [
    "train = pd.merge(train, customer_data, on='customer_id', how='left')\n",
    "# test = pd.merge(test, customer_data, on='customer_id', how='left')\n",
    "\n",
    "train = pd.merge(train, campaign_data, on='campaign_id', how='left')\n",
    "# test = pd.merge(test, campaign_data, on='campaign_id', how='left')"
   ]
  },
  {
   "cell_type": "code",
   "execution_count": 8,
   "metadata": {},
   "outputs": [],
   "source": [
    "def split_vals(x, campaigns):\n",
    "    return (x[~x.campaign_id.isin(campaigns)].reset_index(drop=True), \n",
    "            x[x.campaign_id.isin(campaigns)].reset_index(drop=True))\n",
    "\n",
    "test_campaigns = [11, 12, 13]\n",
    "train, test = split_vals(train, test_campaigns)"
   ]
  },
  {
   "cell_type": "code",
   "execution_count": 9,
   "metadata": {},
   "outputs": [
    {
     "data": {
      "text/plain": [
       "(1130331, 12)"
      ]
     },
     "execution_count": 9,
     "metadata": {},
     "output_type": "execute_result"
    }
   ],
   "source": [
    "min_campaign_startdate = test.start_date.min()\n",
    "customer_transaction_data = customer_transaction_data[customer_transaction_data.date<min_campaign_startdate]\n",
    "customer_transaction_data = customer_transaction_data.reset_index(drop=True)\n",
    "\n",
    "customer_transaction_data.shape"
   ]
  },
  {
   "cell_type": "code",
   "execution_count": 10,
   "metadata": {},
   "outputs": [
    {
     "data": {
      "application/vnd.jupyter.widget-view+json": {
       "model_id": "aff15b8c13844a4790015670baf6c559",
       "version_major": 2,
       "version_minor": 0
      },
      "text/plain": [
       "HBox(children=(IntProgress(value=0, max=4), HTML(value='')))"
      ]
     },
     "metadata": {},
     "output_type": "display_data"
    },
    {
     "name": "stdout",
     "output_type": "stream",
     "text": [
      "\n"
     ]
    }
   ],
   "source": [
    "coupon_item_mapping = pd.merge(coupon_item_mapping, item_data, on='item_id', how='left')\n",
    "\n",
    "for col in tqdm(['item_id', 'brand', 'brand_type', 'category']):\n",
    "    agg_df = coupon_item_mapping.groupby('coupon_id')[col].nunique().to_frame('_unique_'+col+'_per_coupon')\n",
    "    agg_df = agg_df.reset_index()\n",
    "\n",
    "    train = pd.merge(train, agg_df, on='coupon_id', how='left')\n",
    "    test = pd.merge(test, agg_df, on='coupon_id', how='left')"
   ]
  },
  {
   "cell_type": "code",
   "execution_count": 11,
   "metadata": {},
   "outputs": [],
   "source": [
    "coupon_item_set = coupon_item_mapping.groupby('coupon_id').item_id.apply(set).to_frame(\"coupon_items\")"
   ]
  },
  {
   "cell_type": "code",
   "execution_count": 12,
   "metadata": {},
   "outputs": [],
   "source": [
    "train = pd.merge(train, coupon_item_set, on='coupon_id', how='left')\n",
    "test = pd.merge(test, coupon_item_set, on='coupon_id', how='left')"
   ]
  },
  {
   "cell_type": "code",
   "execution_count": 13,
   "metadata": {},
   "outputs": [],
   "source": [
    "customer_transaction_data = customer_transaction_data.drop_duplicates()\n",
    "desired_customers = train['customer_id']+test['customer_id']\n",
    "customer_transaction_data = customer_transaction_data[customer_transaction_data.customer_id.isin(desired_customers)]\n",
    "customer_transaction_data = customer_transaction_data.reset_index(drop=True)"
   ]
  },
  {
   "cell_type": "code",
   "execution_count": null,
   "metadata": {},
   "outputs": [],
   "source": []
  },
  {
   "cell_type": "markdown",
   "metadata": {},
   "source": [
    "# train test split"
   ]
  },
  {
   "cell_type": "code",
   "execution_count": 14,
   "metadata": {},
   "outputs": [],
   "source": [
    "from sklearn.metrics import roc_auc_score\n",
    "def process_data(df):\n",
    "    for col in ['age_range', 'marital_status', 'family_size', \n",
    "                'no_of_children', 'campaign_type']:\n",
    "        df[col] = df[col].astype('category')\n",
    "#         df[col] = df[col].cat.codes\n",
    "        \n",
    "    return df\n",
    "\n",
    "def scoring_func(x, y): return roc_auc_score"
   ]
  },
  {
   "cell_type": "code",
   "execution_count": 15,
   "metadata": {},
   "outputs": [],
   "source": [
    "train = process_data(train)\n",
    "test = process_data(test)"
   ]
  },
  {
   "cell_type": "code",
   "execution_count": 16,
   "metadata": {},
   "outputs": [],
   "source": [
    "train = train.sort_values(by='start_date').reset_index(drop=True)"
   ]
  },
  {
   "cell_type": "code",
   "execution_count": 17,
   "metadata": {},
   "outputs": [
    {
     "data": {
      "text/plain": [
       "((22985, 20), (27446, 20))"
      ]
     },
     "execution_count": 17,
     "metadata": {},
     "output_type": "execute_result"
    }
   ],
   "source": [
    "valid_campaigns = [8, 9, 10]\n",
    "train_df, valid_df = split_vals(train, valid_campaigns)\n",
    "train_df.shape, valid_df.shape"
   ]
  },
  {
   "cell_type": "code",
   "execution_count": 18,
   "metadata": {},
   "outputs": [
    {
     "data": {
      "text/plain": [
       "(891327, 12)"
      ]
     },
     "execution_count": 18,
     "metadata": {},
     "output_type": "execute_result"
    }
   ],
   "source": [
    "min_campaign_startdate = valid_df.start_date.min()\n",
    "customer_transaction_data_v = customer_transaction_data[customer_transaction_data.date<min_campaign_startdate]\n",
    "customer_transaction_data_v = customer_transaction_data_v.reset_index(drop=True)\n",
    "\n",
    "customer_transaction_data_v.shape"
   ]
  },
  {
   "cell_type": "code",
   "execution_count": null,
   "metadata": {},
   "outputs": [],
   "source": []
  },
  {
   "cell_type": "markdown",
   "metadata": {},
   "source": [
    "# feature engineering"
   ]
  },
  {
   "cell_type": "code",
   "execution_count": 19,
   "metadata": {},
   "outputs": [],
   "source": [
    "def generate_agg_features(overall):\n",
    "    agg_df = overall.groupby('coupon_id').agg({\"campaign_id\": [\"nunique\"],\n",
    "                                               \"customer_id\": [\"nunique\"], \n",
    "                                               \"id\":[\"count\"]})\n",
    "    agg_df.columns = [\"coupon_\" + a +\"_\" + b for a,b in agg_df.columns]\n",
    "    agg_df = agg_df.reset_index()\n",
    "\n",
    "    overall = pd.merge(overall, agg_df, on='coupon_id', how='left')\n",
    "\n",
    "    agg_df = overall.groupby('campaign_id').agg({\"coupon_id\": [\"nunique\"],\n",
    "                                                 \"customer_id\": [\"nunique\"], \n",
    "                                                 \"id\":[\"count\"]})\n",
    "    agg_df.columns = [\"campaign_\" + a +\"_\" + b for a,b in agg_df.columns]\n",
    "    agg_df = agg_df.reset_index()\n",
    "    overall = pd.merge(overall, agg_df, on='campaign_id', how='left')\n",
    "\n",
    "    agg_df = overall.groupby('customer_id').agg({\"campaign_id\": [\"nunique\"],\n",
    "                                                 \"coupon_id\": [\"nunique\"],\n",
    "                                                 \"id\":[\"count\"]\n",
    "                                                })\n",
    "    agg_df.columns = [\"customer_\" + a +\"_\" + b for a,b in agg_df.columns]\n",
    "    agg_df = agg_df.reset_index()\n",
    "    overall = pd.merge(overall, agg_df, on='customer_id', how='left')\n",
    "    \n",
    "    return overall"
   ]
  },
  {
   "cell_type": "code",
   "execution_count": 20,
   "metadata": {},
   "outputs": [],
   "source": [
    "def gen_customer_feature(customer_transaction_data, campaign_start_dates):\n",
    "    customer_seen_items = pd.DataFrame()\n",
    "    for col in tqdm(campaign_start_dates):\n",
    "        temp = customer_transaction_data.groupby('customer_id').agg({\"item_id\":[set, \"nunique\"],\n",
    "                                                                     \"quantity\":\"sum\",\n",
    "                                                                     \"coupon_discount_pct\":\"mean\",\n",
    "                                                                     \"other_discount_pct\":\"mean\",\n",
    "                                                                    })\n",
    "        temp.columns = ['seen_items', 'item_number', 'quantity', \n",
    "                        'coupon_discount_pct_mean', 'other_discount_pct_mean']\n",
    "        temp['qty_per_item'] = temp['quantity'] / temp['item_number']\n",
    "        temp['_start_date'] = col\n",
    "        temp = temp.reset_index()\n",
    "\n",
    "        customer_seen_items = pd.concat((customer_seen_items, temp), axis=0)\n",
    "\n",
    "    return customer_seen_items"
   ]
  },
  {
   "cell_type": "code",
   "execution_count": 21,
   "metadata": {},
   "outputs": [],
   "source": [
    "def merging_customer_feature(customer_seen_items, data):\n",
    "    customer_seen_items = customer_seen_items.sort_values(by='_start_date').reset_index(drop=True)\n",
    "    data = data.sort_values(by='start_date').reset_index(drop=True)\n",
    "\n",
    "    data = pd.merge_asof(data,\n",
    "                            customer_seen_items,\n",
    "                            left_on='start_date',\n",
    "                            right_on='_start_date',\n",
    "                            direction='backward',\n",
    "                            by='customer_id')\n",
    "    \n",
    "#     data['seen_items_count'] = 0\n",
    "    seen_items_index = data['seen_items'].notnull()\n",
    "    data.loc[seen_items_index, \n",
    "             'seen_items_count'] = data.loc[seen_items_index].progress_apply(lambda x: \n",
    "                                                                             len(x['coupon_items'] & x['seen_items']), \n",
    "                                                                             axis=1)\n",
    "    \n",
    "    return data"
   ]
  },
  {
   "cell_type": "code",
   "execution_count": 22,
   "metadata": {},
   "outputs": [],
   "source": [
    "train['is_train'] = 1\n",
    "test['is_train'] = 0\n",
    "\n",
    "overall = pd.concat((train, test), ignore_index=True, sort=False)\n",
    "overall = generate_agg_features(overall)\n",
    "\n",
    "train = overall[overall['is_train']==1].reset_index(drop=True)\n",
    "test = overall[overall['is_train']==0].reset_index(drop=True)"
   ]
  },
  {
   "cell_type": "code",
   "execution_count": 23,
   "metadata": {},
   "outputs": [
    {
     "data": {
      "application/vnd.jupyter.widget-view+json": {
       "model_id": "8407f410ee154c63a36dd7240d8a4825",
       "version_major": 2,
       "version_minor": 0
      },
      "text/plain": [
       "HBox(children=(IntProgress(value=0, max=15), HTML(value='')))"
      ]
     },
     "metadata": {},
     "output_type": "display_data"
    },
    {
     "name": "stdout",
     "output_type": "stream",
     "text": [
      "\n"
     ]
    },
    {
     "data": {
      "application/vnd.jupyter.widget-view+json": {
       "model_id": "95a68e8b803f4392b0663c27d5a5f072",
       "version_major": 2,
       "version_minor": 0
      },
      "text/plain": [
       "HBox(children=(IntProgress(value=0, max=46866), HTML(value='')))"
      ]
     },
     "metadata": {},
     "output_type": "display_data"
    },
    {
     "name": "stdout",
     "output_type": "stream",
     "text": [
      "\n"
     ]
    },
    {
     "data": {
      "application/vnd.jupyter.widget-view+json": {
       "model_id": "e931e3152a394e3d9225060a7867ae29",
       "version_major": 2,
       "version_minor": 0
      },
      "text/plain": [
       "HBox(children=(IntProgress(value=0, max=26077), HTML(value='')))"
      ]
     },
     "metadata": {},
     "output_type": "display_data"
    },
    {
     "name": "stdout",
     "output_type": "stream",
     "text": [
      "\n"
     ]
    }
   ],
   "source": [
    "campaign_start_dates = np.unique(np.append(train.start_date.unique(), \n",
    "                                           test.start_date.unique()))\n",
    "\n",
    "campaign_start_dates = train.start_date.unique()\n",
    "customer_features = gen_customer_feature(customer_transaction_data, campaign_start_dates)\n",
    "\n",
    "train = merging_customer_feature(customer_features, train)\n",
    "test = merging_customer_feature(customer_features, test)"
   ]
  },
  {
   "cell_type": "code",
   "execution_count": 25,
   "metadata": {},
   "outputs": [],
   "source": [
    "train_df['is_train'] = 1\n",
    "valid_df['is_train'] = 0\n",
    "\n",
    "overall = pd.concat((train_df, valid_df), ignore_index=True, sort=False)\n",
    "overall = generate_agg_features(overall)\n",
    "\n",
    "train_df = overall[overall['is_train']==1].reset_index(drop=True)\n",
    "valid_df = overall[overall['is_train']==0].reset_index(drop=True)"
   ]
  },
  {
   "cell_type": "code",
   "execution_count": 26,
   "metadata": {},
   "outputs": [
    {
     "data": {
      "application/vnd.jupyter.widget-view+json": {
       "model_id": "5b257aca0c934cdba3658efa680d0a83",
       "version_major": 2,
       "version_minor": 0
      },
      "text/plain": [
       "HBox(children=(IntProgress(value=0, max=15), HTML(value='')))"
      ]
     },
     "metadata": {},
     "output_type": "display_data"
    },
    {
     "name": "stdout",
     "output_type": "stream",
     "text": [
      "\n"
     ]
    },
    {
     "data": {
      "application/vnd.jupyter.widget-view+json": {
       "model_id": "6b6f13cb4654457cb9ac84331d0b7937",
       "version_major": 2,
       "version_minor": 0
      },
      "text/plain": [
       "HBox(children=(IntProgress(value=0, max=21299), HTML(value='')))"
      ]
     },
     "metadata": {},
     "output_type": "display_data"
    },
    {
     "name": "stdout",
     "output_type": "stream",
     "text": [
      "\n"
     ]
    },
    {
     "data": {
      "application/vnd.jupyter.widget-view+json": {
       "model_id": "da401fb33e19404b830bea078334ac61",
       "version_major": 2,
       "version_minor": 0
      },
      "text/plain": [
       "HBox(children=(IntProgress(value=0, max=25567), HTML(value='')))"
      ]
     },
     "metadata": {},
     "output_type": "display_data"
    },
    {
     "name": "stdout",
     "output_type": "stream",
     "text": [
      "\n"
     ]
    }
   ],
   "source": [
    "campaign_start_dates = np.unique(np.append(train_df.start_date.unique(), \n",
    "                                           valid_df.start_date.unique()))\n",
    "\n",
    "customer_features = gen_customer_feature(customer_transaction_data_v, campaign_start_dates)\n",
    "train_df = merging_customer_feature(customer_features, train_df)\n",
    "valid_df = merging_customer_feature(customer_features, valid_df)"
   ]
  },
  {
   "cell_type": "code",
   "execution_count": 27,
   "metadata": {
    "scrolled": true
   },
   "outputs": [
    {
     "data": {
      "text/plain": [
       "28"
      ]
     },
     "execution_count": 27,
     "metadata": {},
     "output_type": "execute_result"
    }
   ],
   "source": [
    "del overall\n",
    "gc.collect()"
   ]
  },
  {
   "cell_type": "code",
   "execution_count": 28,
   "metadata": {},
   "outputs": [],
   "source": [
    "def generate_coupon_features(customer_transaction_data, train, test):\n",
    "    temp = customer_transaction_data.groupby('item_id').agg({\"customer_id\":\"nunique\",\n",
    "                                                             \"other_discount\":\"sum\",\n",
    "                                                             \"coupon_discount\":\"sum\"\n",
    "                                                            })\n",
    "    temp['coupon_discount_per_customer'] = temp['coupon_discount'] / temp['customer_id']\n",
    "    temp = temp.reset_index()\n",
    "    temp = temp.rename(columns={'customer_id':'item_customers', 'quantity':'item_qty'})\n",
    "\n",
    "    coupon_item_agg = pd.merge(coupon_item_mapping, temp, on='item_id', how='left')\n",
    "    temp = coupon_item_agg.groupby('coupon_id').agg({\"coupon_discount_per_customer\":[\"mean\", \"std\"],\n",
    "                                                     \"item_customers\":[\"mean\",\"std\"],\n",
    "                                                        })\n",
    "    col_names = [a + \"_\" + b for a,b in temp.columns]\n",
    "    temp.columns = col_names\n",
    "    temp = temp.reset_index()\n",
    "\n",
    "    original_col = list(temp.columns)\n",
    "    renamed_col = [col if col!='coupon_id' else col for col in temp.columns]\n",
    "    temp = temp.rename(columns=dict(zip(original_col, renamed_col)))\n",
    "\n",
    "    train = pd.merge(train, temp, on='coupon_id', how='left')\n",
    "    test = pd.merge(test, temp, on='coupon_id', how='left')\n",
    "    \n",
    "    return train, test"
   ]
  },
  {
   "cell_type": "code",
   "execution_count": 29,
   "metadata": {},
   "outputs": [],
   "source": [
    "train, test = generate_coupon_features(customer_transaction_data, train, test)\n",
    "train_df, valid_df = generate_coupon_features(customer_transaction_data_v, train_df, valid_df)"
   ]
  },
  {
   "cell_type": "markdown",
   "metadata": {},
   "source": [
    "# modeling"
   ]
  },
  {
   "cell_type": "code",
   "execution_count": 30,
   "metadata": {
    "scrolled": true
   },
   "outputs": [
    {
     "name": "stdout",
     "output_type": "stream",
     "text": [
      "2012-08-12 00:00:00 2013-04-08 00:00:00 2012-09-21 00:00:00 2013-05-10 00:00:00\n",
      "2013-04-22 00:00:00 2013-05-19 00:00:00 2013-05-24 00:00:00 2013-07-05 00:00:00\n",
      "2012-08-12 00:00:00 2013-02-02 00:00:00 2012-09-21 00:00:00 2013-03-08 00:00:00\n",
      "2013-02-16 00:00:00 2013-04-08 00:00:00 2013-04-05 00:00:00 2013-05-10 00:00:00\n"
     ]
    }
   ],
   "source": [
    "for data in [train, test, train_df, valid_df]:\n",
    "    print(data.start_date.min(), data.start_date.max(),\n",
    "         data.end_date.min(), data.end_date.max())"
   ]
  },
  {
   "cell_type": "markdown",
   "metadata": {},
   "source": [
    "## prediction without seen item count feature"
   ]
  },
  {
   "cell_type": "code",
   "execution_count": 70,
   "metadata": {},
   "outputs": [],
   "source": [
    "predictors = [\n",
    "    'coupon_id',\n",
    "    'campaign_type',\n",
    "    '_campaign_duration',\n",
    "    'income_bracket',\n",
    "    '_unique_item_id_per_coupon',\n",
    "    '_unique_brand_per_coupon',\n",
    "    '_unique_category_per_coupon',\n",
    "    'coupon_discount_pct_mean',\n",
    "    'other_discount_pct_mean',\n",
    "    'qty_per_item',\n",
    "    'coupon_discount_per_customer_mean',\n",
    "    'item_customers_mean',\n",
    "    'coupon_id_count',\n",
    "    'campaign_id_count',\n",
    "    'customer_id_count',\n",
    "    'item_number']"
   ]
  },
  {
   "cell_type": "code",
   "execution_count": 71,
   "metadata": {},
   "outputs": [
    {
     "name": "stdout",
     "output_type": "stream",
     "text": [
      "Training until validation scores don't improve for 500 rounds.\n",
      "[100]\tvalid_0's auc: 0.82904\tvalid_0's binary_logloss: 0.0470129\n",
      "[200]\tvalid_0's auc: 0.835004\tvalid_0's binary_logloss: 0.0459787\n",
      "[300]\tvalid_0's auc: 0.83691\tvalid_0's binary_logloss: 0.0453186\n",
      "[400]\tvalid_0's auc: 0.843198\tvalid_0's binary_logloss: 0.0447257\n",
      "[500]\tvalid_0's auc: 0.846847\tvalid_0's binary_logloss: 0.0441897\n",
      "[600]\tvalid_0's auc: 0.850011\tvalid_0's binary_logloss: 0.0437536\n",
      "[700]\tvalid_0's auc: 0.851196\tvalid_0's binary_logloss: 0.0434039\n",
      "[800]\tvalid_0's auc: 0.852461\tvalid_0's binary_logloss: 0.0430976\n",
      "[900]\tvalid_0's auc: 0.853731\tvalid_0's binary_logloss: 0.0428451\n",
      "[1000]\tvalid_0's auc: 0.854971\tvalid_0's binary_logloss: 0.0426656\n",
      "[1100]\tvalid_0's auc: 0.855493\tvalid_0's binary_logloss: 0.0424986\n",
      "[1200]\tvalid_0's auc: 0.856072\tvalid_0's binary_logloss: 0.0423714\n",
      "[1300]\tvalid_0's auc: 0.857195\tvalid_0's binary_logloss: 0.0422393\n",
      "[1400]\tvalid_0's auc: 0.857704\tvalid_0's binary_logloss: 0.042174\n",
      "[1500]\tvalid_0's auc: 0.858107\tvalid_0's binary_logloss: 0.0421549\n",
      "[1600]\tvalid_0's auc: 0.858353\tvalid_0's binary_logloss: 0.0421823\n",
      "[1700]\tvalid_0's auc: 0.858608\tvalid_0's binary_logloss: 0.0422452\n",
      "[1800]\tvalid_0's auc: 0.858948\tvalid_0's binary_logloss: 0.0423124\n",
      "[1900]\tvalid_0's auc: 0.859497\tvalid_0's binary_logloss: 0.0424018\n",
      "Early stopping, best iteration is:\n",
      "[1476]\tvalid_0's auc: 0.858071\tvalid_0's binary_logloss: 0.0421527\n",
      "train 0.9995306462118306 valid 0.858070500183468\n"
     ]
    }
   ],
   "source": [
    "m = lgb.LGBMClassifier(n_estimators=10000, \n",
    "#                                   max_depth=4, \n",
    "                                  learning_rate=0.0011, \n",
    "                                  colsample_bytree=0.5)\n",
    "\n",
    "m.fit(train_df[predictors],\n",
    "      train_df[target],\n",
    "      eval_set=[(valid_df[predictors],\n",
    "                 valid_df[target])],\n",
    "      eval_metric='auc', \n",
    "      early_stopping_rounds=500,\n",
    "      verbose=100)\n",
    "\n",
    "train_score = m.predict_proba(train_df[predictors])[:,1]\n",
    "valid_score = m.predict_proba(valid_df[predictors])[:,1]\n",
    "print(\"train {} valid {}\".format(roc_auc_score(train_df[target], train_score),\n",
    "                                 roc_auc_score(valid_df[target], valid_score)))"
   ]
  },
  {
   "cell_type": "code",
   "execution_count": 72,
   "metadata": {},
   "outputs": [],
   "source": [
    "predictors = [\n",
    "    'coupon_id',\n",
    "    'campaign_type',\n",
    "    '_campaign_duration',\n",
    "    'income_bracket',\n",
    "    '_unique_item_id_per_coupon',\n",
    "    '_unique_brand_per_coupon',\n",
    "    '_unique_category_per_coupon',\n",
    "    'coupon_discount_pct_mean',\n",
    "    'other_discount_pct_mean',\n",
    "    'qty_per_item',\n",
    "    'coupon_discount_per_customer_mean',\n",
    "    'item_customers_mean',\n",
    "    'coupon_id_count',\n",
    "    'campaign_id_count',\n",
    "    'customer_id_count',\n",
    "    'item_number',\n",
    "    'seen_items_count']"
   ]
  },
  {
   "cell_type": "code",
   "execution_count": 73,
   "metadata": {},
   "outputs": [
    {
     "name": "stdout",
     "output_type": "stream",
     "text": [
      "Training until validation scores don't improve for 500 rounds.\n",
      "[100]\tvalid_0's auc: 0.921703\tvalid_0's binary_logloss: 0.0440528\n",
      "[200]\tvalid_0's auc: 0.920782\tvalid_0's binary_logloss: 0.0421126\n",
      "[300]\tvalid_0's auc: 0.922057\tvalid_0's binary_logloss: 0.0407492\n",
      "[400]\tvalid_0's auc: 0.923031\tvalid_0's binary_logloss: 0.0397105\n",
      "[500]\tvalid_0's auc: 0.924008\tvalid_0's binary_logloss: 0.0388715\n",
      "[600]\tvalid_0's auc: 0.924502\tvalid_0's binary_logloss: 0.0382292\n",
      "[700]\tvalid_0's auc: 0.92544\tvalid_0's binary_logloss: 0.0377117\n",
      "[800]\tvalid_0's auc: 0.925846\tvalid_0's binary_logloss: 0.0372859\n",
      "[900]\tvalid_0's auc: 0.926262\tvalid_0's binary_logloss: 0.0369541\n",
      "[1000]\tvalid_0's auc: 0.92638\tvalid_0's binary_logloss: 0.0366732\n",
      "[1100]\tvalid_0's auc: 0.92632\tvalid_0's binary_logloss: 0.036447\n",
      "[1200]\tvalid_0's auc: 0.926435\tvalid_0's binary_logloss: 0.036264\n",
      "[1300]\tvalid_0's auc: 0.926674\tvalid_0's binary_logloss: 0.0361242\n",
      "[1400]\tvalid_0's auc: 0.927027\tvalid_0's binary_logloss: 0.0360216\n",
      "[1500]\tvalid_0's auc: 0.927499\tvalid_0's binary_logloss: 0.0359464\n",
      "[1600]\tvalid_0's auc: 0.927673\tvalid_0's binary_logloss: 0.0359045\n",
      "[1700]\tvalid_0's auc: 0.92801\tvalid_0's binary_logloss: 0.0358766\n",
      "[1800]\tvalid_0's auc: 0.928141\tvalid_0's binary_logloss: 0.0359175\n",
      "[1900]\tvalid_0's auc: 0.928306\tvalid_0's binary_logloss: 0.0359696\n",
      "[2000]\tvalid_0's auc: 0.928468\tvalid_0's binary_logloss: 0.0360092\n",
      "[2100]\tvalid_0's auc: 0.928704\tvalid_0's binary_logloss: 0.0361047\n",
      "[2200]\tvalid_0's auc: 0.928893\tvalid_0's binary_logloss: 0.0362082\n",
      "Early stopping, best iteration is:\n",
      "[1714]\tvalid_0's auc: 0.928057\tvalid_0's binary_logloss: 0.0358734\n",
      "train 0.9999232493119792 valid 0.9280573421472869\n"
     ]
    }
   ],
   "source": [
    "m = lgb.LGBMClassifier(n_estimators=10000, \n",
    "#                                   max_depth=4, \n",
    "                                  learning_rate=0.0011, \n",
    "                                  colsample_bytree=0.5)\n",
    "\n",
    "m.fit(train_df[predictors],\n",
    "      train_df[target],\n",
    "      eval_set=[(valid_df[predictors],\n",
    "                 valid_df[target])],\n",
    "      eval_metric='auc', \n",
    "      early_stopping_rounds=500,\n",
    "      verbose=100)\n",
    "\n",
    "train_score = m.predict_proba(train_df[predictors])[:,1]\n",
    "valid_score = m.predict_proba(valid_df[predictors])[:,1]\n",
    "print(\"train {} valid {}\".format(roc_auc_score(train_df[target], train_score),\n",
    "                                 roc_auc_score(valid_df[target], valid_score)))"
   ]
  },
  {
   "cell_type": "code",
   "execution_count": 42,
   "metadata": {
    "scrolled": false
   },
   "outputs": [
    {
     "data": {
      "text/plain": [
       "<matplotlib.axes._subplots.AxesSubplot at 0x1a4038ab70>"
      ]
     },
     "execution_count": 42,
     "metadata": {},
     "output_type": "execute_result"
    },
    {
     "data": {
      "image/png": "[encoded data removed]",
      "text/plain": [
       "<Figure size 720x720 with 1 Axes>"
      ]
     },
     "metadata": {
      "needs_background": "light"
     },
     "output_type": "display_data"
    }
   ],
   "source": [
    "lgb.plot_importance(m, figsize=(10,10))"
   ]
  },
  {
   "cell_type": "code",
   "execution_count": 43,
   "metadata": {
    "scrolled": true
   },
   "outputs": [
    {
     "data": {
      "text/plain": [
       "1714"
      ]
     },
     "execution_count": 43,
     "metadata": {},
     "output_type": "execute_result"
    }
   ],
   "source": [
    "m.best_iteration_"
   ]
  },
  {
   "cell_type": "markdown",
   "metadata": {},
   "source": [
    "## single model based prediction"
   ]
  },
  {
   "cell_type": "code",
   "execution_count": 58,
   "metadata": {},
   "outputs": [],
   "source": [
    "X_train = train[predictors].copy()\n",
    "y_train = train[target]\n",
    "\n",
    "X_test = test[predictors].copy()\n",
    "y_test = test[target]"
   ]
  },
  {
   "cell_type": "code",
   "execution_count": 60,
   "metadata": {},
   "outputs": [
    {
     "name": "stdout",
     "output_type": "stream",
     "text": [
      "test score 0.9319659406017933 \n"
     ]
    }
   ],
   "source": [
    "m_final = lgb.LGBMClassifier(n_estimators=1800, \n",
    "#                                   max_depth=4, \n",
    "                                  learning_rate=0.0011, \n",
    "                                  colsample_bytree=0.5)\n",
    "\n",
    "m_final.fit(X_train, y_train)\n",
    "print(\"test score {} \".format(roc_auc_score(y_test, \n",
    "                                            m_final.predict_proba(X_test)[:,1])))"
   ]
  },
  {
   "cell_type": "code",
   "execution_count": null,
   "metadata": {},
   "outputs": [],
   "source": []
  },
  {
   "cell_type": "markdown",
   "metadata": {},
   "source": [
    "# Final Solution - GroupKFold CV "
   ]
  },
  {
   "cell_type": "code",
   "execution_count": 61,
   "metadata": {},
   "outputs": [],
   "source": [
    "train = train.sort_values(by='start_date').reset_index(drop=True)"
   ]
  },
  {
   "cell_type": "code",
   "execution_count": 62,
   "metadata": {},
   "outputs": [],
   "source": [
    "X_train = train.copy()\n",
    "y_train = train[target]\n",
    "\n",
    "X_test = test.copy()\n",
    "y_test = test[target]"
   ]
  },
  {
   "cell_type": "code",
   "execution_count": 63,
   "metadata": {},
   "outputs": [],
   "source": [
    "group = X_train['campaign_id'].values"
   ]
  },
  {
   "cell_type": "code",
   "execution_count": 64,
   "metadata": {},
   "outputs": [],
   "source": [
    "predictors = ['coupon_id',\n",
    " 'campaign_type',\n",
    " '_campaign_duration',\n",
    " 'income_bracket',\n",
    " '_unique_item_id_per_coupon',\n",
    " '_unique_brand_per_coupon',\n",
    " '_unique_category_per_coupon',\n",
    " 'coupon_id_count',\n",
    " 'campaign_id_count',\n",
    " 'customer_id_count',\n",
    "]\n",
    "\n",
    "predictors2 = ['coupon_discount_pct_mean',\n",
    " 'other_discount_pct_mean',\n",
    " 'qty_per_item',\n",
    " 'seen_items_count',\n",
    " 'coupon_discount_per_customer_mean',\n",
    " 'item_customers_mean']\n",
    "    \n",
    "drop_cols = ['start_date', 'customer_id', 'coupon_items', 'id']\n",
    "drop_cols2 = ['seen_items', '_start_date', 'item_number', \n",
    "              'quantity', 'coupon_discount_per_customer_std', 'item_customers_std']"
   ]
  },
  {
   "cell_type": "code",
   "execution_count": 65,
   "metadata": {},
   "outputs": [],
   "source": [
    "X_train = X_train[predictors+drop_cols+[target]]\n",
    "X_test = X_test[predictors+predictors2]"
   ]
  },
  {
   "cell_type": "code",
   "execution_count": 66,
   "metadata": {
    "scrolled": true
   },
   "outputs": [
    {
     "data": {
      "application/vnd.jupyter.widget-view+json": {
       "model_id": "93325134b46f499cbddce395def125ea",
       "version_major": 2,
       "version_minor": 0
      },
      "text/plain": [
       "HBox(children=(IntProgress(value=0, max=15), HTML(value='')))"
      ]
     },
     "metadata": {},
     "output_type": "display_data"
    },
    {
     "name": "stdout",
     "output_type": "stream",
     "text": [
      "\n"
     ]
    },
    {
     "data": {
      "application/vnd.jupyter.widget-view+json": {
       "model_id": "ec36e86ad87f47c2b15c7e6ab772bb20",
       "version_major": 2,
       "version_minor": 0
      },
      "text/plain": [
       "HBox(children=(IntProgress(value=0, max=25836), HTML(value='')))"
      ]
     },
     "metadata": {},
     "output_type": "display_data"
    },
    {
     "name": "stdout",
     "output_type": "stream",
     "text": [
      "\n"
     ]
    },
    {
     "data": {
      "application/vnd.jupyter.widget-view+json": {
       "model_id": "1d82b1d0949d432f840d42fa5c86905d",
       "version_major": 2,
       "version_minor": 0
      },
      "text/plain": [
       "HBox(children=(IntProgress(value=0, max=21030), HTML(value='')))"
      ]
     },
     "metadata": {},
     "output_type": "display_data"
    },
    {
     "name": "stdout",
     "output_type": "stream",
     "text": [
      "\n",
      "Fold 1 Score 0.9345134376480722\n"
     ]
    },
    {
     "data": {
      "application/vnd.jupyter.widget-view+json": {
       "model_id": "8299a2d0188443ae8392b5e0d2d6a08d",
       "version_major": 2,
       "version_minor": 0
      },
      "text/plain": [
       "HBox(children=(IntProgress(value=0, max=15), HTML(value='')))"
      ]
     },
     "metadata": {},
     "output_type": "display_data"
    },
    {
     "name": "stdout",
     "output_type": "stream",
     "text": [
      "\n"
     ]
    },
    {
     "data": {
      "application/vnd.jupyter.widget-view+json": {
       "model_id": "887611cc32704c0796e99b14d973627c",
       "version_major": 2,
       "version_minor": 0
      },
      "text/plain": [
       "HBox(children=(IntProgress(value=0, max=40399), HTML(value='')))"
      ]
     },
     "metadata": {},
     "output_type": "display_data"
    },
    {
     "name": "stdout",
     "output_type": "stream",
     "text": [
      "\n"
     ]
    },
    {
     "data": {
      "application/vnd.jupyter.widget-view+json": {
       "model_id": "e3eb0e94d1c64e73bf79cbeeead4c1fc",
       "version_major": 2,
       "version_minor": 0
      },
      "text/plain": [
       "HBox(children=(IntProgress(value=0, max=6467), HTML(value='')))"
      ]
     },
     "metadata": {},
     "output_type": "display_data"
    },
    {
     "name": "stdout",
     "output_type": "stream",
     "text": [
      "\n",
      "Fold 2 Score 0.875101405186151\n"
     ]
    },
    {
     "data": {
      "application/vnd.jupyter.widget-view+json": {
       "model_id": "25975fb93cb042d2989f0581a9da874c",
       "version_major": 2,
       "version_minor": 0
      },
      "text/plain": [
       "HBox(children=(IntProgress(value=0, max=15), HTML(value='')))"
      ]
     },
     "metadata": {},
     "output_type": "display_data"
    },
    {
     "name": "stdout",
     "output_type": "stream",
     "text": [
      "\n"
     ]
    },
    {
     "data": {
      "application/vnd.jupyter.widget-view+json": {
       "model_id": "0228323e1aad4329b4893050a6c975ac",
       "version_major": 2,
       "version_minor": 0
      },
      "text/plain": [
       "HBox(children=(IntProgress(value=0, max=40358), HTML(value='')))"
      ]
     },
     "metadata": {},
     "output_type": "display_data"
    },
    {
     "name": "stdout",
     "output_type": "stream",
     "text": [
      "\n"
     ]
    },
    {
     "data": {
      "application/vnd.jupyter.widget-view+json": {
       "model_id": "764daae5f73443a399d206207dfa7937",
       "version_major": 2,
       "version_minor": 0
      },
      "text/plain": [
       "HBox(children=(IntProgress(value=0, max=6508), HTML(value='')))"
      ]
     },
     "metadata": {},
     "output_type": "display_data"
    },
    {
     "name": "stdout",
     "output_type": "stream",
     "text": [
      "\n",
      "Fold 3 Score 0.8793240700535534\n"
     ]
    },
    {
     "data": {
      "application/vnd.jupyter.widget-view+json": {
       "model_id": "eb471784a9814d1185aed291e01178d5",
       "version_major": 2,
       "version_minor": 0
      },
      "text/plain": [
       "HBox(children=(IntProgress(value=0, max=15), HTML(value='')))"
      ]
     },
     "metadata": {},
     "output_type": "display_data"
    },
    {
     "name": "stdout",
     "output_type": "stream",
     "text": [
      "\n"
     ]
    },
    {
     "data": {
      "application/vnd.jupyter.widget-view+json": {
       "model_id": "7962d528d6a74466b79e619edfa1024d",
       "version_major": 2,
       "version_minor": 0
      },
      "text/plain": [
       "HBox(children=(IntProgress(value=0, max=40470), HTML(value='')))"
      ]
     },
     "metadata": {},
     "output_type": "display_data"
    },
    {
     "name": "stdout",
     "output_type": "stream",
     "text": [
      "\n"
     ]
    },
    {
     "data": {
      "application/vnd.jupyter.widget-view+json": {
       "model_id": "d92b33084b9447679a7b182f6d9c493b",
       "version_major": 2,
       "version_minor": 0
      },
      "text/plain": [
       "HBox(children=(IntProgress(value=0, max=6396), HTML(value='')))"
      ]
     },
     "metadata": {},
     "output_type": "display_data"
    },
    {
     "name": "stdout",
     "output_type": "stream",
     "text": [
      "\n",
      "Fold 4 Score 0.8138337591766229\n"
     ]
    },
    {
     "data": {
      "application/vnd.jupyter.widget-view+json": {
       "model_id": "1e5477297f29456b980960b380c5f8fe",
       "version_major": 2,
       "version_minor": 0
      },
      "text/plain": [
       "HBox(children=(IntProgress(value=0, max=15), HTML(value='')))"
      ]
     },
     "metadata": {},
     "output_type": "display_data"
    },
    {
     "name": "stdout",
     "output_type": "stream",
     "text": [
      "\n"
     ]
    },
    {
     "data": {
      "application/vnd.jupyter.widget-view+json": {
       "model_id": "95be35c851484209b24070f2cfabf126",
       "version_major": 2,
       "version_minor": 0
      },
      "text/plain": [
       "HBox(children=(IntProgress(value=0, max=40401), HTML(value='')))"
      ]
     },
     "metadata": {},
     "output_type": "display_data"
    },
    {
     "name": "stdout",
     "output_type": "stream",
     "text": [
      "\n"
     ]
    },
    {
     "data": {
      "application/vnd.jupyter.widget-view+json": {
       "model_id": "1ac827e381db41188eb20797d8eef8de",
       "version_major": 2,
       "version_minor": 0
      },
      "text/plain": [
       "HBox(children=(IntProgress(value=0, max=6465), HTML(value='')))"
      ]
     },
     "metadata": {},
     "output_type": "display_data"
    },
    {
     "name": "stdout",
     "output_type": "stream",
     "text": [
      "\n",
      "Fold 5 Score 0.8888868907751083\n",
      "CV Score is 0.8709230391226047\n"
     ]
    }
   ],
   "source": [
    "from sklearn.model_selection import KFold, StratifiedKFold, TimeSeriesSplit, cross_val_predict, GroupKFold\n",
    "from sklearn.metrics import roc_auc_score\n",
    "def scoring(y_true, y_hat):\n",
    "    return roc_auc_score(y_true, y_hat)\n",
    "\n",
    "kf = GroupKFold(n_splits=5)\n",
    "    \n",
    "val_scores = []\n",
    "true_vals = []\n",
    "prediction_vals = []\n",
    "test_prediction = []\n",
    "for n_fold, (train_index, test_index) in (enumerate(kf.split(X_train, y_train, groups=group))):\n",
    "    X_train_temp = X_train.iloc[train_index].reset_index(drop=True)\n",
    "    X_val_temp = X_train.iloc[test_index].reset_index(drop=True)\n",
    "    X_test_temp = X_test.reset_index(drop=True)\n",
    "    \n",
    "    # determining transaction history based of minimum campaign start date\n",
    "    min_campaign_startdate = X_val_temp.start_date.min()\n",
    "    customer_transaction_data_v = customer_transaction_data[customer_transaction_data.date<min_campaign_startdate]\n",
    "    customer_transaction_data_v = customer_transaction_data_v.reset_index(drop=True)\n",
    "\n",
    "    # finding unique campaign start date\n",
    "    campaign_start_dates = np.unique(np.append(X_train_temp.start_date.unique(), \n",
    "                                               X_val_temp.start_date.unique()))\n",
    "\n",
    "    # customer features\n",
    "    customer_features = gen_customer_feature(customer_transaction_data_v, campaign_start_dates)\n",
    "    X_train_temp = merging_customer_feature(customer_features, X_train_temp)\n",
    "    X_val_temp = merging_customer_feature(customer_features, X_val_temp)\n",
    "    \n",
    "    # coupon features\n",
    "    X_train_temp, X_val_temp = generate_coupon_features(customer_transaction_data_v, \n",
    "                                                        X_train_temp, \n",
    "                                                        X_val_temp)\n",
    "    \n",
    "    y_train_temp = X_train_temp[target]\n",
    "    X_train_temp = X_train_temp.drop(target, axis=1)\n",
    "    y_val_temp = X_val_temp[target]\n",
    "    X_val_temp = X_val_temp.drop(target, axis=1)\n",
    "\n",
    "    X_train_temp.drop(drop_cols+drop_cols2, axis=1, inplace=True)\n",
    "    X_val_temp.drop(drop_cols+drop_cols2, axis=1, inplace=True)\n",
    "\n",
    "    model = lgb.LGBMClassifier(n_estimators=10000, \n",
    "#                                   max_depth=4, \n",
    "#                       seed=seed,\n",
    "                      learning_rate=0.0011, \n",
    "                      colsample_bytree=0.4)\n",
    "\n",
    "    model.fit(X_train_temp,\n",
    "          y_train_temp,\n",
    "          eval_set=[(X_val_temp,\n",
    "                     y_val_temp)],\n",
    "          eval_metric='auc', \n",
    "          early_stopping_rounds=500, \n",
    "          verbose=0)\n",
    "\n",
    "    # valid prediction\n",
    "    y_hat_valid = model.predict_proba(X_val_temp)[:, 1]\n",
    "    \n",
    "    # test prediction\n",
    "    X_test_temp = X_test_temp.reindex(columns=X_train_temp.columns)\n",
    "    y_hat_test = model.predict_proba(X_test_temp)[:, 1]\n",
    "\n",
    "    prediction_vals.extend(y_hat_valid)\n",
    "    true_vals.extend(y_val_temp)\n",
    "    test_prediction.append(y_hat_test)\n",
    "\n",
    "    # calculate score \n",
    "    score_valid = scoring(y_val_temp, y_hat_valid)\n",
    "    val_scores.append(score_valid)\n",
    "    print(\"Fold {} Score {}\".format(n_fold+1, score_valid))\n",
    "print(\"CV Score is {}\".format(scoring(true_vals, prediction_vals)))"
   ]
  },
  {
   "cell_type": "code",
   "execution_count": 74,
   "metadata": {},
   "outputs": [],
   "source": [
    "preds = np.mean(test_prediction, axis=0)"
   ]
  },
  {
   "cell_type": "code",
   "execution_count": 75,
   "metadata": {
    "scrolled": true
   },
   "outputs": [
    {
     "data": {
      "text/plain": [
       "0.9320814140889211"
      ]
     },
     "execution_count": 75,
     "metadata": {},
     "output_type": "execute_result"
    }
   ],
   "source": [
    "roc_auc_score(y_test, preds)"
   ]
  },
  {
   "cell_type": "code",
   "execution_count": null,
   "metadata": {},
   "outputs": [],
   "source": []
  },
  {
   "cell_type": "code",
   "execution_count": null,
   "metadata": {},
   "outputs": [],
   "source": []
  },
  {
   "cell_type": "code",
   "execution_count": null,
   "metadata": {},
   "outputs": [],
   "source": []
  }
 ],
 "metadata": {
  "kernelspec": {
   "display_name": "Python 3",
   "language": "python",
   "name": "python3"
  },
  "language_info": {
   "codemirror_mode": {
    "name": "ipython",
    "version": 3
   },
   "file_extension": ".py",
   "mimetype": "text/x-python",
   "name": "python",
   "nbconvert_exporter": "python",
   "pygments_lexer": "ipython3",
   "version": "3.6.9"
  },
  "toc": {
   "base_numbering": 1,
   "nav_menu": {},
   "number_sections": true,
   "sideBar": true,
   "skip_h1_title": false,
   "title_cell": "Table of Contents",
   "title_sidebar": "Contents",
   "toc_cell": true,
   "toc_position": {
    "height": "656px",
    "left": "401px",
    "top": "110px",
    "width": "220px"
   },
   "toc_section_display": true,
   "toc_window_display": true
  }
 },
 "nbformat": 4,
 "nbformat_minor": 2
}
